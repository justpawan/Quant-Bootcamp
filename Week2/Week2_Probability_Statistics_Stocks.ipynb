{
 "cells": [
  {
   "cell_type": "code",
   "execution_count": 12,
   "id": "cd8286b6",
   "metadata": {},
   "outputs": [],
   "source": [
    "import pandas as pd\n",
    "import numpy as np\n",
    "import yfinance as yf\n",
    "import matplotlib.pyplot as plt"
   ]
  },
  {
   "cell_type": "code",
   "execution_count": null,
   "id": "dcb70888",
   "metadata": {},
   "outputs": [],
   "source": [
    "# Let's pick 10 random tickers (we can change them later)\n",
    "tickers = [\"AAPL\", \"MSFT\", \"AMZN\", \"GOOGL\", \"META\", \n",
    "           \"TSLA\", \"NVDA\", \"JPM\", \"V\", \"JNJ\"]\n",
    "\n",
    "# Download adjusted close prices for last 5 years\n",
    "data = yf.download(tickers, start=\"2020-01-01\", end=\"2025-08-21\")['Close']\n",
    "\n",
    "# Inspect data\n",
    "print(data.head())"
   ]
  },
  {
   "cell_type": "code",
   "execution_count": null,
   "id": "efcb8bc1",
   "metadata": {},
   "outputs": [],
   "source": [
    "# Daily returns\n",
    "returns = data.pct_change().dropna()\n",
    "# Inspect returns \n",
    "# print(returns.head())\n",
    "\n",
    "# Mean (expected return)\n",
    "mean_returns = returns.mean()\n",
    "\n",
    "# Covariance matrix\n",
    "cov_matrix = returns.cov()\n",
    "\n",
    "print(\"Mean Returns:\\n\", mean_returns)\n",
    "print(\"\\nCovariance Matrix:\\n\", cov_matrix)\n"
   ]
  },
  {
   "cell_type": "code",
   "execution_count": null,
   "id": "1ecbba4d",
   "metadata": {},
   "outputs": [],
   "source": [
    "# Random weights for portfolio (sum = 1)\n",
    "weights = np.random.random(len(tickers))\n",
    "weights /= np.sum(weights)\n",
    "\n",
    "# Expected portfolio return\n",
    "port_return = np.dot(weights, mean_returns)\n",
    "\n",
    "# Expected portfolio volatility\n",
    "port_volatility = np.sqrt(np.dot(weights.T, np.dot(cov_matrix, weights)))\n",
    "\n",
    "print(\"Portfolio Return:\", port_return)\n",
    "print(\"Portfolio Volatility:\", port_volatility)\n"
   ]
  },
  {
   "cell_type": "code",
   "execution_count": null,
   "id": "05453086",
   "metadata": {},
   "outputs": [],
   "source": [
    "# Calculate individual stock risk-return\n",
    "stock_returns = mean_returns * 252   # Annualize (approx. 252 trading days)\n",
    "stock_volatility = returns.std() * np.sqrt(252)  # Annualized volatility\n",
    "\n",
    "plt.figure(figsize=(10,6))\n",
    "plt.scatter(stock_volatility, stock_returns, c='blue', marker='o')\n",
    "\n",
    "# Label each point\n",
    "for i, ticker in enumerate(tickers):\n",
    "    plt.text(stock_volatility[i], stock_returns[i], ticker)\n",
    "\n",
    "# Mark portfolio point\n",
    "plt.scatter(port_volatility*np.sqrt(252), port_return*252, c='red', marker='*', s=200, label=\"Portfolio\")\n",
    "\n",
    "plt.xlabel(\"Volatility (Risk)\")\n",
    "plt.ylabel(\"Expected Return\")\n",
    "plt.title(\"Risk-Return Scatter Plot (10 Stocks + Portfolio)\")\n",
    "plt.legend()\n",
    "plt.show()\n"
   ]
  },
  {
   "cell_type": "code",
   "execution_count": null,
   "id": "623783b1",
   "metadata": {},
   "outputs": [],
   "source": [
    "import seaborn as sns\n",
    "plt.figure(figsize=(10,8))\n",
    "sns.heatmap(returns.corr(), annot=True, cmap=\"coolwarm\")\n",
    "plt.title(\"Stock Correlation Heatmap\")\n",
    "plt.show()"
   ]
  }
 ],
 "metadata": {
  "kernelspec": {
   "display_name": "Python 3",
   "language": "python",
   "name": "python3"
  },
  "language_info": {
   "codemirror_mode": {
    "name": "ipython",
    "version": 3
   },
   "file_extension": ".py",
   "mimetype": "text/x-python",
   "name": "python",
   "nbconvert_exporter": "python",
   "pygments_lexer": "ipython3",
   "version": "3.11.4"
  }
 },
 "nbformat": 4,
 "nbformat_minor": 5
}

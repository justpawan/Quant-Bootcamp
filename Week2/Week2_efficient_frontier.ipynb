{
 "cells": [
  {
   "cell_type": "code",
   "execution_count": 1,
   "id": "cd8286b6",
   "metadata": {},
   "outputs": [],
   "source": [
    "import numpy as np\n",
    "import pandas as pd\n",
    "import yfinance as yf\n",
    "import matplotlib.pyplot as plt\n",
    "import seaborn as sns"
   ]
  },
  {
   "cell_type": "code",
   "execution_count": null,
   "id": "dcb70888",
   "metadata": {},
   "outputs": [],
   "source": [
    "# --- Step 1: Download stock data ---\n",
    "tickers = [\"AAPL\", \"MSFT\", \"AMZN\", \"GOOGL\", \"META\", \"TSLA\", \"NVDA\", \"JPM\", \"UNH\", \"XOM\"]\n",
    "data = yf.download(tickers, start=\"2020-01-01\", end=\"2025-01-01\")[\"Close\"]\n",
    "\n",
    "# Inspect data\n",
    "print(data.head())"
   ]
  },
  {
   "cell_type": "code",
   "execution_count": 3,
   "id": "efcb8bc1",
   "metadata": {},
   "outputs": [],
   "source": [
    "# --- Step 2: Compute log returns ---\n",
    "returns = np.log(data / data.shift(1)).dropna()\n"
   ]
  },
  {
   "cell_type": "code",
   "execution_count": 4,
   "id": "1ecbba4d",
   "metadata": {},
   "outputs": [],
   "source": [
    "# --- Step 3: Portfolio Simulation ---\n",
    "np.random.seed(42)\n",
    "num_portfolios = 5000\n",
    "\n",
    "results = np.zeros((3, num_portfolios))\n",
    "weights_record = []\n",
    "\n",
    "for i in range(num_portfolios):\n",
    "    weights = np.random.random(len(tickers))\n",
    "    weights /= np.sum(weights)\n",
    "    weights_record.append(weights)\n",
    "\n",
    "    portfolio_return = np.sum(returns.mean() * weights) * 252\n",
    "    portfolio_volatility = np.sqrt(np.dot(weights.T, np.dot(returns.cov() * 252, weights)))\n",
    "    sharpe_ratio = portfolio_return / portfolio_volatility\n",
    "\n",
    "    results[0, i] = portfolio_return\n",
    "    results[1, i] = portfolio_volatility\n",
    "    results[2, i] = sharpe_ratio\n"
   ]
  },
  {
   "cell_type": "code",
   "execution_count": null,
   "id": "05453086",
   "metadata": {},
   "outputs": [],
   "source": [
    "# --- Step 4: Efficient Frontier Plot ---\n",
    "results_df = pd.DataFrame(results.T, columns=[\"Return\", \"Volatility\", \"Sharpe\"])\n",
    "plt.figure(figsize=(10,6))\n",
    "plt.scatter(results_df[\"Volatility\"], results_df[\"Return\"], c=results_df[\"Sharpe\"], cmap=\"viridis\", s=10)\n",
    "plt.colorbar(label=\"Sharpe Ratio\")\n",
    "plt.xlabel(\"Volatility (Std Dev)\")\n",
    "plt.ylabel(\"Expected Return\")\n",
    "plt.title(\"Efficient Frontier - Portfolio Optimization\")\n",
    "\n",
    "# Highlight max Sharpe portfolio\n",
    "max_sharpe_idx = results_df[\"Sharpe\"].idxmax()\n",
    "plt.scatter(results_df.loc[max_sharpe_idx][\"Volatility\"],\n",
    "            results_df.loc[max_sharpe_idx][\"Return\"],\n",
    "            c=\"red\", s=50, marker=\"*\", label=\"Max Sharpe Ratio\")\n",
    "plt.legend()\n",
    "plt.show()\n"
   ]
  },
  {
   "cell_type": "code",
   "execution_count": null,
   "id": "623783b1",
   "metadata": {},
   "outputs": [],
   "source": [
    "plt.figure(figsize=(10,8))\n",
    "sns.heatmap(returns.corr(), annot=True, cmap=\"coolwarm\")\n",
    "plt.title(\"Stock Correlation Heatmap\")\n",
    "plt.show()"
   ]
  }
 ],
 "metadata": {
  "kernelspec": {
   "display_name": "Python 3",
   "language": "python",
   "name": "python3"
  },
  "language_info": {
   "codemirror_mode": {
    "name": "ipython",
    "version": 3
   },
   "file_extension": ".py",
   "mimetype": "text/x-python",
   "name": "python",
   "nbconvert_exporter": "python",
   "pygments_lexer": "ipython3",
   "version": "3.11.4"
  }
 },
 "nbformat": 4,
 "nbformat_minor": 5
}
